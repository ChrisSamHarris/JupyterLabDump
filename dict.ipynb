{
 "cells": [
  {
   "cell_type": "code",
   "execution_count": 1,
   "id": "f45c73d8-0e9b-4761-8fbf-7db13a064154",
   "metadata": {},
   "outputs": [],
   "source": [
    "import pandas as pd"
   ]
  },
  {
   "cell_type": "code",
   "execution_count": null,
   "id": "99df3e0e-92a2-47d6-b5b2-7a966623d1bb",
   "metadata": {},
   "outputs": [],
   "source": []
  },
  {
   "cell_type": "code",
   "execution_count": 4,
   "id": "ebfdd63c-8900-40ff-9afd-4669902d3eca",
   "metadata": {},
   "outputs": [],
   "source": [
    "df = pd.read_csv(\"./dictionary.csv\")"
   ]
  },
  {
   "cell_type": "code",
   "execution_count": 6,
   "id": "61ef9638-8db6-4fec-9fe5-28c2a15d5fa8",
   "metadata": {},
   "outputs": [
    {
     "data": {
      "text/plain": [
       "Index(['word', 'definition'], dtype='object')"
      ]
     },
     "execution_count": 6,
     "metadata": {},
     "output_type": "execute_result"
    }
   ],
   "source": [
    "df.columns"
   ]
  },
  {
   "cell_type": "code",
   "execution_count": 13,
   "id": "95782c54-239c-4448-8d77-9874d60c62e7",
   "metadata": {},
   "outputs": [
    {
     "data": {
      "text/plain": [
       "'1. A compound capable of transferring a hydrogen ion in solution.\\n2. Being harsh or corrosive in tone.\\n3. Having an acid, sharp or tangy taste.\\n4. A powerful hallucinogenic drug manufactured from lysergic acid.\\n5. Having a pH less than 7, or being sour, or having the strength to neutralize  alkalis, or turning a litmus paper red.\\n'"
      ]
     },
     "execution_count": 13,
     "metadata": {},
     "output_type": "execute_result"
    }
   ],
   "source": [
    "df.loc[df['word'] == 'acid']['definition'].squeeze()"
   ]
  },
  {
   "cell_type": "code",
   "execution_count": 19,
   "id": "41dda99d-7415-40e5-aa2f-4d8cf23d1953",
   "metadata": {},
   "outputs": [
    {
     "data": {
      "text/plain": [
       "'one-two-three'"
      ]
     },
     "execution_count": 19,
     "metadata": {},
     "output_type": "execute_result"
    }
   ],
   "source": [
    "demo = \"one two three\"\n",
    "len(demo.split())\n",
    "\n",
    "demo.replace(\" \",\"-\")"
   ]
  },
  {
   "cell_type": "code",
   "execution_count": 24,
   "id": "cb8957a4-959e-4290-817e-2860bdbcddf6",
   "metadata": {},
   "outputs": [
    {
     "name": "stdout",
     "output_type": "stream",
     "text": [
      "This is a test\n"
     ]
    }
   ],
   "source": [
    "word = \"This-is-a-test\"\n",
    "if len(word.split('-')) > 1:\n",
    "        word = word.replace(\"-\", \" \")\n",
    "print(word)\n"
   ]
  },
  {
   "cell_type": "code",
   "execution_count": null,
   "id": "e5a2c5e7-1d04-46d0-bad5-8628ae411a79",
   "metadata": {},
   "outputs": [],
   "source": []
  }
 ],
 "metadata": {
  "kernelspec": {
   "display_name": "Python 3 (ipykernel)",
   "language": "python",
   "name": "python3"
  },
  "language_info": {
   "codemirror_mode": {
    "name": "ipython",
    "version": 3
   },
   "file_extension": ".py",
   "mimetype": "text/x-python",
   "name": "python",
   "nbconvert_exporter": "python",
   "pygments_lexer": "ipython3",
   "version": "3.11.4"
  }
 },
 "nbformat": 4,
 "nbformat_minor": 5
}
